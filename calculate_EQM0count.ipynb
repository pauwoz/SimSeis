{
 "cells": [
  {
   "cell_type": "markdown",
   "id": "current-report",
   "metadata": {},
   "source": [
    "Following Python jupyter notebook presents the workflow for calculation of Earthquake Count and\n",
    "Total Seismic moment release summarized within 20x20km grid cells as described in Hypothesis\n",
    "Testing Section of the Chapter 4.\n",
    "\n",
    "It takes following inputs: \n",
    "1. mont_grid = previously calculated polygon grid in in which each row represents the grid cell \n",
    "2. file_obs = observed seismicity catalog \n",
    "3. filesTests = folder with calculated synthetic earthquake catalogs\n",
    "\n",
    "It can be run in Jupyter notebook or Jupyter Lab (https://jupyter.org/)."
   ]
  },
  {
   "cell_type": "code",
   "execution_count": 32,
   "id": "sealed-measurement",
   "metadata": {},
   "outputs": [],
   "source": [
    "import geopandas as gpd\n",
    "import pandas as pd\n",
    "import numpy as np\n",
    "from shapely import wkt\n",
    "from csv import writer\n",
    "import re"
   ]
  },
  {
   "cell_type": "code",
   "execution_count": 33,
   "id": "egyptian-practitioner",
   "metadata": {},
   "outputs": [],
   "source": [
    "\"\"\" Calculate Seismic Moment from Moment Magnitude\"\"\"\n",
    "def calc_seismic_moment(momentMag):\n",
    "    seismMoment = pow(10, (3/2 * momentMag+16.0))\n",
    "    seismMoment = seismMoment / 10000000 # to convert to Newton-meter\n",
    "    return seismMoment\n",
    "\n",
    "\"\"\"calculate EQs within R km buffer from the grid cell cetroid\"\"\"\n",
    "def count_eq(cell, eqs):\n",
    "    n_eqs = eqs.within(cell).sum()\n",
    "    return n_eqs\n",
    "\n",
    "\"\"\"calculate cumulative seismic moment per grid cell \"\"\"\n",
    "def count_seism_moment(cell, eqs):\n",
    "        cum_M0 = eqs[eqs.within(cell)]['M0Synt'].sum()\n",
    "        return cum_M0\n",
    "\n",
    "\"\"\"append count results to file\"\"\"\n",
    "def append_results(results, file):\n",
    "    csv_input = pd.read_csv(file)\n",
    "    old_last_col = csv_input.columns[-1]\n",
    "    new_last_col = 'sim_' + str(int(re.findall('\\d+', old_last_col)[0]) + 1)\n",
    "    csv_input.loc[:,new_last_col] = results.values\n",
    "    csv_input.to_csv(file, index=False)\n",
    "    \"\"\"append correlation results to file\"\"\"\n",
    "    \n",
    "def append_results_to_list(results, file):\n",
    "    csv_input = pd.read_csv(file)\n",
    "    old_last_col = csv_input.columns[-1]\n",
    "    new_last_col = 'sim_' + str(int(re.findall('\\d+', old_last_col)[0]) + 1)\n",
    "    csv_input.loc[:,new_last_col] = results.values\n",
    "    csv_input.to_csv(file, index=False)\n"
   ]
  },
  {
   "cell_type": "code",
   "execution_count": 34,
   "id": "equal-partition",
   "metadata": {},
   "outputs": [],
   "source": [
    "### 1st iteration"
   ]
  },
  {
   "cell_type": "code",
   "execution_count": 35,
   "id": "knowing-anime",
   "metadata": {},
   "outputs": [],
   "source": [
    "# Load Montney grid\n",
    "mont_grid = gpd.read_file(\"data/mont_grid/montey20x20grid.shp\")\n",
    "mont_gridEQ = mont_grid.to_crs(26911)\n",
    "mont_gridM0 = mont_grid.to_crs(26911)\n",
    "\n",
    "mont_gridEQ_obs = mont_grid.to_crs(26911)\n",
    "mont_gridM0_obs = mont_grid.to_crs(26911)"
   ]
  },
  {
   "cell_type": "code",
   "execution_count": 36,
   "id": "metallic-monitor",
   "metadata": {},
   "outputs": [
    {
     "name": "stderr",
     "output_type": "stream",
     "text": [
      "C:\\Users\\Paulina-laptop\\AppData\\Roaming\\Python\\Python37\\site-packages\\geopandas\\array.py:166: ShapelyDeprecationWarning: The array interface is deprecated and will no longer work in Shapely 2.0. Convert the '.coords' to a numpy array instead.\n",
      "  return GeometryArray(vectorized.from_shapely(data), crs=crs)\n"
     ]
    }
   ],
   "source": [
    "file_obs = 'data/compiled_eq_NRCanAER_KSMMA_NPGMMA_AB.csv'\n",
    "EQcat_obs = pd.read_csv(file_obs)\n",
    "EQcat_obs = EQcat_obs[EQcat_obs.mag>=2]\n",
    "EQcat_obs.loc[:,'M0Synt']= EQcat_obs.apply(lambda x:calc_seismic_moment(x['mag']), axis=1)\n",
    "\n",
    "EQcat_obs['geometry'] = EQcat_obs['geometry'].apply(wkt.loads)\n",
    "EQcat_obs_gdf = gpd.GeoDataFrame(EQcat_obs, geometry=EQcat_obs.geometry,crs=\"EPSG:4326\")\n",
    "EQcat_obs_gdf = EQcat_obs_gdf.to_crs(crs=\"EPSG:26911\")\n",
    "\n",
    "### Count and assign the Earthquake COunt and Total Seismic Moment to each gridcell\n",
    "EQCount_obs = mont_gridEQ_obs.apply(lambda x: count_eq(x.geometry,EQcat_obs_gdf), axis=1)\n",
    "\n",
    "M0Count_obs = mont_gridM0_obs.apply(lambda x: count_seism_moment(x.geometry, EQcat_obs_gdf), axis=1)\n",
    "EQObsvec = EQCount_obs - np.mean(EQCount_obs)\n",
    "M0Obsvec = M0Count_obs - np.mean(M0Count_obs)"
   ]
  },
  {
   "cell_type": "code",
   "execution_count": 37,
   "id": "dressed-holmes",
   "metadata": {},
   "outputs": [],
   "source": [
    "import glob\n",
    "filesTests = glob.glob('data/SimulatedCatalogues/A/trimmed_catalogs/*')"
   ]
  },
  {
   "cell_type": "code",
   "execution_count": 38,
   "id": "graduate-dodge",
   "metadata": {},
   "outputs": [],
   "source": [
    "file0 = filesTests[0]\n",
    "EQcat = pd.read_csv(file0)\n",
    "EQcat['geometry'] = EQcat['geometry'].apply(wkt.loads)\n",
    "EQcat_gdf = gpd.GeoDataFrame(EQcat, geometry=EQcat.geometry, crs=\"EPSG:26910\")\n",
    "EQcat_gdf = EQcat_gdf.to_crs(crs=\"EPSG:26911\")\n",
    "\n",
    "mont_gridEQ.loc[:,'sim_0'] = mont_gridEQ.apply(lambda x: count_eq(x.geometry, EQcat_gdf), axis=1)\n",
    "mont_gridM0.loc[:,'sim_0'] = mont_gridM0.apply(lambda x: count_seism_moment(x.geometry, EQcat_gdf), axis=1)\n",
    "mont_gridEQ.to_csv('results/EQCountResults/EQCount_testA.csv')\n",
    "mont_gridM0.to_csv('results/M0CountResults/M0Count_testA.csv')\n",
    "\n",
    "EQCount = mont_gridEQ.loc[:,'sim_0']\n",
    "M0Count = mont_gridM0.loc[:,'sim_0']\n",
    "\n",
    "EQSynvec = EQCount - np.mean(EQCount)\n",
    "M0Synvec = M0Count - np.mean(M0Count)\n",
    "\n",
    "phiSynEQ = np.sum(EQObsvec*EQSynvec) /np.sqrt(np.sum(EQObsvec**2) * np.sum(EQSynvec**2))\n",
    "phiSynM0 = np.sum(M0Obsvec*M0Synvec) /np.sqrt(np.sum(M0Obsvec**2) * np.sum(M0Synvec**2))\n",
    "\n",
    "d = {'CorrCoeff_EQ': [phiSynEQ], 'CorrCoeff_M0': [phiSynM0]}\n",
    "\n",
    "df = pd.DataFrame(data=d)\n",
    "df.to_csv('results/corrResultsA.csv')"
   ]
  },
  {
   "cell_type": "code",
   "execution_count": 39,
   "id": "adopted-azerbaijan",
   "metadata": {},
   "outputs": [],
   "source": [
    "### Next iterations"
   ]
  },
  {
   "cell_type": "code",
   "execution_count": 40,
   "id": "original-birmingham",
   "metadata": {},
   "outputs": [
    {
     "name": "stderr",
     "output_type": "stream",
     "text": [
      "D:\\Programs\\Anaconda3\\envs\\geological_susceptibility\\lib\\site-packages\\ipykernel_launcher.py:28: DeprecationWarning: `np.int` is a deprecated alias for the builtin `int`. To silence this warning, use `int` by itself. Doing this will not modify any behavior and is safe. When replacing `np.int`, you may wish to use e.g. `np.int64` or `np.int32` to specify the precision. If you wish to review your current use, check the release note link for additional information.\n",
      "Deprecated in NumPy 1.20; for more details and guidance: https://numpy.org/devdocs/release/1.20.0-notes.html#deprecations\n"
     ]
    }
   ],
   "source": [
    "path = 'data/SimulatedCatalogues/A/trimmed_catalogs/*'\n",
    "file_list = [file for file in glob.glob(path)]\n",
    "\n",
    "for file_nr, file in enumerate(file_list[1:]):  \n",
    "\n",
    "    try:\n",
    "        EQcat = pd.read_csv(file)\n",
    "        EQcat['geometry'] = EQcat['geometry'].apply(wkt.loads)\n",
    "        EQcat_gdf = gpd.GeoDataFrame(EQcat, geometry=EQcat.geometry, crs=\"EPSG:26910\")\n",
    "        EQcat_gdf = EQcat_gdf.to_crs(crs=\"EPSG:26911\")\n",
    "    except:\n",
    "        pass\n",
    "\n",
    "    EQCount = mont_gridEQ.apply(lambda x: count_eq(x.geometry, EQcat_gdf), axis=1) \n",
    "    M0Count = mont_gridM0.apply(lambda x: count_seism_moment(x.geometry, EQcat_gdf), axis=1)\n",
    "    \n",
    "    # save grids to file\n",
    "\n",
    "    append_results(EQCount, 'results/EQCountResults/EQCount_testA.csv')\n",
    "    append_results(M0Count, 'results/M0CountResults/M0Count_testA.csv')\n",
    "    \n",
    "    EQSynvec = EQCount - np.mean(EQCount)\n",
    "    M0Synvec = M0Count - np.mean(M0Count)\n",
    "\n",
    "    phiSynEQ = np.sum(EQObsvec*EQSynvec) /np.sqrt(np.sum(EQObsvec**2) * np.sum(EQSynvec**2))\n",
    "    phiSynM0 = np.sum(M0Obsvec*M0Synvec) /np.sqrt(np.sum(M0Obsvec**2) * np.sum(M0Synvec**2))\n",
    "    \n",
    "    List = [np.int(file_nr)+1, phiSynEQ, phiSynM0]\n",
    "    \n",
    "    # save to correlation results to file\n",
    "    with open('results/corrResultsA.csv', 'a', newline='') as f_object:\n",
    "\n",
    "        writer_object = writer(f_object)\n",
    "        writer_object.writerow(List)\n",
    "        f_object.close()"
   ]
  },
  {
   "cell_type": "code",
   "execution_count": null,
   "id": "postal-tennis",
   "metadata": {},
   "outputs": [],
   "source": []
  }
 ],
 "metadata": {
  "kernelspec": {
   "display_name": "Python 3",
   "language": "python",
   "name": "python3"
  },
  "language_info": {
   "codemirror_mode": {
    "name": "ipython",
    "version": 3
   },
   "file_extension": ".py",
   "mimetype": "text/x-python",
   "name": "python",
   "nbconvert_exporter": "python",
   "pygments_lexer": "ipython3",
   "version": "3.7.6"
  }
 },
 "nbformat": 4,
 "nbformat_minor": 5
}
