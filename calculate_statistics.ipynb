{
 "cells": [
  {
   "cell_type": "markdown",
   "id": "efficient-elements",
   "metadata": {},
   "source": [
    "Following Python jupyter notebook presents the workflow for Correlation Coefficient analysis as\n",
    "described in Hypothesis Testing Section of Chapter 4 (Example for 500 simulations of Earthquake\n",
    "Count).\n",
    "\n",
    "Scipt is used to calculate correlation (CC) coefficients between vectors corresponding to Observed\n",
    "seismicity catalogues and Perturbed catalogues and Null/alternative hypotheses. In the next step,\n",
    "Kullback-Leibler Divergence, Jensen-Shannon Divergence, and Kolmogorov-Smirnof Statistics based\n",
    "on correlation coefficients distribution for perturbed catalogs and Null, A, B and C hypothesis\n",
    "Input data include calculated values of Earthquake Count and Total Seismic Moment Release. \n",
    "\n",
    "It\n",
    "can be run in Jupyter notebook or Jupyter Lab (https://jupyter.org/)"
   ]
  },
  {
   "cell_type": "code",
   "execution_count": 60,
   "id": "valid-tongue",
   "metadata": {},
   "outputs": [],
   "source": [
    "# Load libraries\n",
    "import numpy as np\n",
    "import pandas as pd\n",
    "import seaborn as sns\n",
    "import string\n",
    "from scipy import stats\n",
    "from scipy.spatial.distance import jensenshannon as js\n",
    "from scipy.stats import entropy\n",
    "import glob"
   ]
  },
  {
   "cell_type": "code",
   "execution_count": 61,
   "id": "neither-revision",
   "metadata": {},
   "outputs": [],
   "source": [
    "### Specify number of simulations\n",
    "nsims = 500\n",
    "\n",
    "### Load results\n",
    "### Earthquake Count\n",
    "real_vals = pd.read_csv('results/EQCountResults/EQCount_Obs.csv', engine='python')\n",
    "simH0 = pd.read_csv('results/EQCountResults/EQCount_testH0.csv', engine='python')\n",
    "simH0 = simH0.filter(regex='sim_')\n",
    "filesTests = ['results/EQCountResults/EQCount_testA.csv',\n",
    "              'results/EQCountResults/EQCount_testB.csv',\n",
    "              'results/EQCountResults/EQCount_testC.csv']\n",
    "dfValsPert = pd.read_csv('results/EQCountResults/EQCount_Pert.csv', engine='python')"
   ]
  },
  {
   "cell_type": "code",
   "execution_count": 73,
   "id": "thirty-following",
   "metadata": {},
   "outputs": [
    {
     "data": {
      "text/plain": [
       "\"\\n### Total Seismic Moment Release\\nreal_vals = pd.read_csv('results/M0CountResults/M0Count_Obs.csv', engine='python')\\nsimH0 = pd.read_csv('results/M0CountResults/M0Count_testH0.csv', engine='python')\\nsimH0 = simH0.filter(regex='sim_')\\nfilesTests = ['results/M0CountResults/M0Count_testA.csv',\\n              'results/M0CountResults/M0Count_testB.csv',\\n              'results/M0CountResults/M0Count_testC.csv']\\ndfValsPert = pd.read_csv('results/M0CountResults/M0Count_Pert.csv', engine='python')\\n\""
      ]
     },
     "execution_count": 73,
     "metadata": {},
     "output_type": "execute_result"
    }
   ],
   "source": [
    "\"\"\"\n",
    "### Total Seismic Moment Release\n",
    "real_vals = pd.read_csv('results/M0CountResults/M0Count_Obs.csv', engine='python')\n",
    "simH0 = pd.read_csv('results/M0CountResults/M0Count_testH0.csv', engine='python')\n",
    "simH0 = simH0.filter(regex='sim_')\n",
    "filesTests = ['results/M0CountResults/M0Count_testA.csv',\n",
    "              'results/M0CountResults/M0Count_testB.csv',\n",
    "              'results/M0CountResults/M0Count_testC.csv']\n",
    "dfValsPert = pd.read_csv('results/M0CountResults/M0Count_Pert.csv', engine='python')\n",
    "\"\"\""
   ]
  },
  {
   "cell_type": "code",
   "execution_count": 74,
   "id": "shared-islam",
   "metadata": {},
   "outputs": [],
   "source": [
    "### Create empty dictionary to store results\n",
    "dRes = {}\n",
    "### Set correlation mode\n",
    "correlation_mode = 'same'"
   ]
  },
  {
   "cell_type": "markdown",
   "id": "photographic-lexington",
   "metadata": {},
   "source": [
    "Correlation Analysis"
   ]
  },
  {
   "cell_type": "code",
   "execution_count": 77,
   "id": "static-tribune",
   "metadata": {},
   "outputs": [],
   "source": [
    "### Null hypothesis Catalogs Analysis\n",
    "CCH0List = []\n",
    "\n",
    "for i in range(0, nsims): #H0.shape[1]):\n",
    "    in1Vector = simH0.values[:,i]\n",
    "    in2Vector = real_vals.sim_0.values\n",
    "    CCH0 = np.corrcoef(in1Vector, in2Vector)[0][1]\n",
    "    CCH0List.append(CCH0)\n",
    "\n",
    "### Perturbed Catalogs analysis\n",
    "dfValsPert = dfValsPert.filter(regex='sim_')\n",
    "\n",
    "CCPertList = []\n",
    "\n",
    "for i in range(0, nsims): #Pert.shape[1]):\n",
    "    in1Vector = dfValsPert.values[:,i]\n",
    "    in2Vector = real_vals.sim_0.values\n",
    "    CCPert = np.corrcoef(in1Vector, in2Vector)[0][1]\n",
    "    CCPertList.append(CCPert)\n",
    "\n",
    "    ### Kullback-Leibler & Jensen-Shannon divergences + Kolmogorov-smirnov statistic calculation\n",
    "### for Null hypothesis\n",
    "KLDH0 = entropy(CCPertList, CCH0List) #qk=None => Kullback Leibler divergence\n",
    "JSDH0 = js(CCPertList, CCH0List) # Jensen-Shannon divergence\n",
    "KSStatH0 = stats.ks_2samp(CCPertList, CCH0List, alternative='two-sided')[0] #Kolmogorov-Smirnov statistic\n",
    "\n",
    "### Append results of each test to dictionary\n",
    "dRes['H0'] = {}\n",
    "dRes['H0'] = {\"CC\": CCH0List,\n",
    "              \"JSD\":JSDH0,\n",
    "              \"KLD\":KLDH0,\n",
    "              \"KSstat\":KSStatH0\n",
    "             }\n",
    "\n",
    "### Synthetic Catalogs analysis\n",
    "### Iterate through A, B, C hypotheses\n",
    "for filenr, file in zip(string.ascii_uppercase, filesTests):\n",
    "    CCSimList = []\n",
    "    dfValsTest = pd.read_csv(file)\n",
    "    dfValsTest = dfValsTest.filter(regex='sim_')\n",
    "\n",
    "    for i in range(0, nsims):\n",
    "        in1Vector = dfValsTest.values[:,i]\n",
    "        in2Vector = real_vals.sim_0.values\n",
    "        CCSim = np.corrcoef(in1Vector, in2Vector)[0][1]\n",
    "        CCSimList.append(CCSim) ##\n",
    "        \n",
    "### Kullback-Leibler & Jensen-Shannon divergences + Kolmogorov-smirnov statistic calculation\n",
    "### for alternative hypothesis\n",
    "    KSStat = stats.ks_2samp(CCPertList, CCSimList, alternative='two-sided')[0]\n",
    "    JSD = js(CCPertList, CCSimList)\n",
    "    KLD = entropy(CCPertList, CCSimList)\n",
    "\n",
    "    ### Append results of each test to dictionary\n",
    "    dRes[filenr] = {\"KLD\":KLD,\n",
    "                    \"JSD\":JSD,\n",
    "                    \"KSstat\":KSStat,\n",
    "                    \"CC\":CCSimList}\n",
    "dRes['Pert'] = {\"CC\": CCPertList}"
   ]
  },
  {
   "cell_type": "code",
   "execution_count": 78,
   "id": "south-phrase",
   "metadata": {},
   "outputs": [],
   "source": [
    "dfResults = pd.DataFrame(dRes)\n",
    "dfResultsABC = dfResults[['A','B','C', 'H0','Pert']]\n",
    "dfResultsABC = dfResultsABC.transpose()\n",
    "\n",
    "dfResultsABC.loc['A','Mean Pearson Correlation Coef.'] = np.mean(dRes['A']['CC'])\n",
    "dfResultsABC.loc['B','Mean Pearson Correlation Coef.'] = np.mean(dRes['B']['CC'])\n",
    "dfResultsABC.loc['C','Mean Pearson Correlation Coef.'] = np.mean(dRes['C']['CC'])\n",
    "dfResultsABC.loc['Pert','Mean Pearson Correlation Coef.'] = np.mean(dRes['Pert']['CC'])\n",
    "dfResultsABC.loc['H0','Mean Pearson Correlation Coef.'] = np.mean(dRes['H0']['CC'])\n",
    "dfResultsABC.loc['A','Mean Pearson Correlation Coef. std'] = np.std(dRes['A']['CC'])\n",
    "dfResultsABC.loc['B','Mean Pearson Correlation Coef. std'] = np.std(dRes['B']['CC'])\n",
    "dfResultsABC.loc['C','Mean Pearson Correlation Coef. std'] = np.std(dRes['C']['CC'])\n",
    "dfResultsABC.loc['Pert','Mean Pearson Correlation Coef. std'] = np.std(dRes['Pert']['CC'])\n",
    "dfResultsABC.loc['H0','Mean Pearson Correlation Coef. std'] = np.std(dRes['H0']['CC'])\n",
    "dfResultsABCH0 = dfResultsABC[['KLD', 'JSD', 'KSstat',\n",
    "                               'Mean Pearson Correlation Coef.',\n",
    "                               'Mean Pearson Correlation Coef. std']]\n"
   ]
  },
  {
   "cell_type": "code",
   "execution_count": 79,
   "id": "labeled-kinase",
   "metadata": {},
   "outputs": [
    {
     "data": {
      "text/html": [
       "<div>\n",
       "<style scoped>\n",
       "    .dataframe tbody tr th:only-of-type {\n",
       "        vertical-align: middle;\n",
       "    }\n",
       "\n",
       "    .dataframe tbody tr th {\n",
       "        vertical-align: top;\n",
       "    }\n",
       "\n",
       "    .dataframe thead th {\n",
       "        text-align: right;\n",
       "    }\n",
       "</style>\n",
       "<table border=\"1\" class=\"dataframe\">\n",
       "  <thead>\n",
       "    <tr style=\"text-align: right;\">\n",
       "      <th></th>\n",
       "      <th>KLD</th>\n",
       "      <th>JSD</th>\n",
       "      <th>KSstat</th>\n",
       "      <th>Mean Pearson Correlation Coef.</th>\n",
       "      <th>Mean Pearson Correlation Coef. std</th>\n",
       "    </tr>\n",
       "  </thead>\n",
       "  <tbody>\n",
       "    <tr>\n",
       "      <th>A</th>\n",
       "      <td>0.184418</td>\n",
       "      <td>0.2085</td>\n",
       "      <td>0.962</td>\n",
       "      <td>0.263922</td>\n",
       "      <td>0.166763</td>\n",
       "    </tr>\n",
       "    <tr>\n",
       "      <th>B</th>\n",
       "      <td>0.177624</td>\n",
       "      <td>0.203343</td>\n",
       "      <td>0.944</td>\n",
       "      <td>0.300858</td>\n",
       "      <td>0.178898</td>\n",
       "    </tr>\n",
       "    <tr>\n",
       "      <th>C</th>\n",
       "      <td>0.162241</td>\n",
       "      <td>0.195076</td>\n",
       "      <td>0.918</td>\n",
       "      <td>0.341570</td>\n",
       "      <td>0.193220</td>\n",
       "    </tr>\n",
       "    <tr>\n",
       "      <th>H0</th>\n",
       "      <td>0.316223</td>\n",
       "      <td>0.267511</td>\n",
       "      <td>0.976</td>\n",
       "      <td>0.171681</td>\n",
       "      <td>0.146112</td>\n",
       "    </tr>\n",
       "    <tr>\n",
       "      <th>Pert</th>\n",
       "      <td>NaN</td>\n",
       "      <td>NaN</td>\n",
       "      <td>NaN</td>\n",
       "      <td>0.844249</td>\n",
       "      <td>0.058090</td>\n",
       "    </tr>\n",
       "  </tbody>\n",
       "</table>\n",
       "</div>"
      ],
      "text/plain": [
       "           KLD       JSD KSstat  Mean Pearson Correlation Coef.  \\\n",
       "A     0.184418    0.2085  0.962                        0.263922   \n",
       "B     0.177624  0.203343  0.944                        0.300858   \n",
       "C     0.162241  0.195076  0.918                        0.341570   \n",
       "H0    0.316223  0.267511  0.976                        0.171681   \n",
       "Pert       NaN       NaN    NaN                        0.844249   \n",
       "\n",
       "      Mean Pearson Correlation Coef. std  \n",
       "A                               0.166763  \n",
       "B                               0.178898  \n",
       "C                               0.193220  \n",
       "H0                              0.146112  \n",
       "Pert                            0.058090  "
      ]
     },
     "execution_count": 79,
     "metadata": {},
     "output_type": "execute_result"
    }
   ],
   "source": [
    "dfResultsABCH0"
   ]
  }
 ],
 "metadata": {
  "kernelspec": {
   "display_name": "Python 3",
   "language": "python",
   "name": "python3"
  },
  "language_info": {
   "codemirror_mode": {
    "name": "ipython",
    "version": 3
   },
   "file_extension": ".py",
   "mimetype": "text/x-python",
   "name": "python",
   "nbconvert_exporter": "python",
   "pygments_lexer": "ipython3",
   "version": "3.7.6"
  }
 },
 "nbformat": 4,
 "nbformat_minor": 5
}
